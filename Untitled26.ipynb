{
 "cells": [
  {
   "cell_type": "code",
   "execution_count": 8,
   "id": "0a294abf-16c7-4889-a816-a7153f3cf70b",
   "metadata": {},
   "outputs": [
    {
     "name": "stdout",
     "output_type": "stream",
     "text": [
      "       1000       1st       400       500  announced     asked   attacks  \\\n",
      "0  0.000000  0.000000  0.000000  0.000000   0.000000  0.000000  0.000000   \n",
      "1  0.000000  0.301511  0.000000  0.000000   0.000000  0.301511  0.000000   \n",
      "2  0.000000  0.000000  0.000000  0.000000   0.348019  0.000000  0.000000   \n",
      "3  0.000000  0.000000  0.353553  0.000000   0.000000  0.000000  0.353553   \n",
      "4  0.377964  0.000000  0.000000  0.000000   0.000000  0.000000  0.000000   \n",
      "5  0.000000  0.000000  0.000000  0.000000   0.000000  0.000000  0.000000   \n",
      "6  0.000000  0.000000  0.000000  0.419257   0.348019  0.000000  0.000000   \n",
      "\n",
      "      boost    border  celebration  ...  resulted  resulting   sectors  \\\n",
      "0  0.000000  0.000000     0.408248  ...  0.000000   0.000000  0.000000   \n",
      "1  0.000000  0.301511     0.000000  ...  0.000000   0.000000  0.000000   \n",
      "2  0.000000  0.000000     0.000000  ...  0.000000   0.000000  0.419257   \n",
      "3  0.000000  0.000000     0.000000  ...  0.000000   0.353553  0.000000   \n",
      "4  0.000000  0.000000     0.000000  ...  0.377964   0.000000  0.000000   \n",
      "5  0.353553  0.000000     0.000000  ...  0.000000   0.000000  0.000000   \n",
      "6  0.000000  0.000000     0.000000  ...  0.000000   0.000000  0.000000   \n",
      "\n",
      "     sensex   started  subsequent     taken      time     today    trophy  \n",
      "0  0.000000  0.408248    0.000000  0.000000  0.000000  0.408248  0.000000  \n",
      "1  0.000000  0.000000    0.000000  0.000000  0.000000  0.000000  0.301511  \n",
      "2  0.000000  0.000000    0.000000  0.000000  0.000000  0.000000  0.000000  \n",
      "3  0.000000  0.000000    0.353553  0.000000  0.000000  0.000000  0.000000  \n",
      "4  0.000000  0.000000    0.000000  0.000000  0.000000  0.000000  0.000000  \n",
      "5  0.353553  0.000000    0.000000  0.353553  0.353553  0.000000  0.000000  \n",
      "6  0.000000  0.000000    0.000000  0.000000  0.000000  0.000000  0.000000  \n",
      "\n",
      "[7 rows x 51 columns]\n"
     ]
    }
   ],
   "source": [
    "import pandas as pd\n",
    "from sklearn.feature_extraction.text import TfidfVectorizer\n",
    "\n",
    "df = pd.read_csv(\"News_Headlines.csv\")  \n",
    "\n",
    "\n",
    "\n",
    "df['Headlines'] = df['Headlines'].astype(str)\n",
    "\n",
    "\n",
    "vectorizer = TfidfVectorizer(stop_words='english', max_features=1000)  # Top 1000 words\n",
    "\n",
    "# Transform text data into a TF-IDF matrix\n",
    "tfidf_matrix = vectorizer.fit_transform(df['Headlines'])\n",
    "\n",
    "# Convert to DataFrame for better readability\n",
    "tfidf_df = pd.DataFrame(tfidf_matrix.toarray(), columns=vectorizer.get_feature_names_out())\n",
    "\n",
    "print(tfidf_df)"
   ]
  },
  {
   "cell_type": "code",
   "execution_count": null,
   "id": "363d80c0-b22b-4a6b-b9e2-4d8b9bcef7e8",
   "metadata": {},
   "outputs": [],
   "source": []
  }
 ],
 "metadata": {
  "kernelspec": {
   "display_name": "Python 3 (ipykernel)",
   "language": "python",
   "name": "python3"
  },
  "language_info": {
   "codemirror_mode": {
    "name": "ipython",
    "version": 3
   },
   "file_extension": ".py",
   "mimetype": "text/x-python",
   "name": "python",
   "nbconvert_exporter": "python",
   "pygments_lexer": "ipython3",
   "version": "3.12.4"
  }
 },
 "nbformat": 4,
 "nbformat_minor": 5
}
